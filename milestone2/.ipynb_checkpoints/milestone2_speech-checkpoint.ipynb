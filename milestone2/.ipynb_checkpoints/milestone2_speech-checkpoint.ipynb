{
 "cells": [
  {
   "cell_type": "markdown",
   "metadata": {},
   "source": [
    "<img src=\"files/img/IACT-logo.png\">"
   ]
  },
  {
   "cell_type": "markdown",
   "metadata": {},
   "source": [
    "# Milestone 2: ASR and intent classification  \n",
    "You will implement an end-2-end ASR system based on the encoder-decoder architecture"
   ]
  },
  {
   "cell_type": "markdown",
   "metadata": {},
   "source": [
    "We have prepared the ATIS2 data set.  \n",
    "ATIS2 contains speech, text and intent labels and you will train a grapheme-based ASR system that you will chain together with intent classification."
   ]
  },
  {
   "cell_type": "markdown",
   "metadata": {},
   "source": [
    "You will need these libraries:  \n",
    "- numpy\n",
    "- matplotlib\n",
    "- librosa\n",
    "- keras  \n",
    "  \n",
    "Much of this assignment will be about preparing data and we use existing libraries (keras, librosa, numpy) for the compute intensive parts."
   ]
  },
  {
   "cell_type": "markdown",
   "metadata": {},
   "source": [
    "## About this asignment  \n",
    "You will do all your programming directly in this notebook. Because speech data is very large compared to text data, you will need to run it on your designated compute server where the data is also located.  \n",
    "NB! This data is **not** for distribution. The data was bought and payed for by Interactions LLC who are making it available for your studies free of charge."
   ]
  },
  {
   "cell_type": "code",
   "execution_count": 1,
   "metadata": {},
   "outputs": [],
   "source": [
    "# matplotlib for displaying the output\n",
    "import matplotlib.pyplot as plt\n",
    "%matplotlib inline\n",
    "\n",
    "import numpy as np\n",
    "import librosa"
   ]
  },
  {
   "cell_type": "markdown",
   "metadata": {},
   "source": [
    "Here we set some global constants we will be using later"
   ]
  },
  {
   "cell_type": "code",
   "execution_count": 2,
   "metadata": {},
   "outputs": [],
   "source": [
    "bsz = 32\n",
    "epochs = 5\n",
    "hsz = 256    # when you have a functioning system, you can tune this parameter\n",
    "n_mfcc = 40  # high res MFCCs\n",
    "padint = 0\n",
    "padsym = '0'"
   ]
  },
  {
   "cell_type": "markdown",
   "metadata": {},
   "source": [
    "## 1. Preprocessing"
   ]
  },
  {
   "cell_type": "markdown",
   "metadata": {},
   "source": [
    "The ATIS data is available in `/home/aski/data/atis2_train`. "
   ]
  },
  {
   "cell_type": "raw",
   "metadata": {},
   "source": [
    "Your first task is to load the target training data. Finish the functions `graphemes()`,`load_data()`, `make_intmaps()` and `to_onehot()`."
   ]
  },
  {
   "cell_type": "code",
   "execution_count": 2,
   "metadata": {},
   "outputs": [
    {
     "name": "stdout",
     "output_type": "stream",
     "text": [
      "0k0011 atis2/12_2_1/atis2/spon/train/mit/0k0/1/0k0011ss.16b.16kHz.wav i want to know the cheapest way to fly from denver to oakland\r\n",
      "0k0021 atis2/12_2_1/atis2/spon/train/mit/0k0/1/0k0021ss.16b.16kHz.wav what is the cheapest way to fly from denver to oakland\r\n",
      "0k0031 atis2/12_2_1/atis2/spon/train/mit/0k0/1/0k0031ss.16b.16kHz.wav i want to go from denver to oakland\r\n",
      "0k0041 atis2/12_2_1/atis2/spon/train/mit/0k0/1/0k0041ss.16b.16kHz.wav what is the cheapest flight from denver to oakland\r\n",
      "0k0051 atis2/12_2_1/atis2/spon/train/mit/0k0/1/0k0051ss.16b.16kHz.wav one way please\r\n",
      "0k0061 atis2/12_2_1/atis2/spon/train/mit/0k0/1/0k0061ss.16b.16kHz.wav i want to leave after five o'clock\r\n",
      "0k0071 atis2/12_2_1/atis2/spon/train/mit/0k0/1/0k0071ss.16b.16kHz.wav i want to leave after five p m\r\n",
      "0k0081 atis2/12_2_1/atis2/spon/train/mit/0k0/1/0k0081ss.16b.16kHz.wav sure i want to go from philadelphia to dallas\r\n",
      "0k0091 atis2/12_2_1/atis2/spon/train/mit/0k0/1/0k0091ss.16b.16kHz.wav i'd like to eat lunch on that flight\r\n",
      "0k00a1 atis2/12_2_1/atis2/spon/train/mit/0k0/1/0k00a1ss.16b.16kHz.wav on which flights will lunch be served\r\n"
     ]
    }
   ],
   "source": [
    "! head data/atis2_train"
   ]
  },
  {
   "cell_type": "code",
   "execution_count": 8,
   "metadata": {},
   "outputs": [],
   "source": [
    "def grapheme(string):\n",
    "    \"\"\"Convert a string to a list of characters. \n",
    "    \n",
    "    NB! Replace ' ' with '_'\n",
    "    \"\"\"\n"
   ]
  },
  {
   "cell_type": "code",
   "execution_count": 9,
   "metadata": {},
   "outputs": [],
   "source": [
    "def load_data(data_file):\n",
    "    \"\"\"Load references as grapheme sequences and filenames of audio files\n",
    "    e.g. \n",
    "    utt2txt[0k0051] = [o, n, e, _, w, a, y, _, p, l, e, a, s, e]\n",
    "    and\n",
    "    utt2wav[0k0051] = atis2/12_2_1/atis2/spon/train/mit/0k0/1/0k0051ss.16b.16kHz.wav\n",
    "    \"\"\"\n",
    "    utt2txt = {}\n",
    "    utt2wav = {}\n",
    "\n",
    "    # Fill in the preprocessing code here\n",
    "    \n",
    "    return utt2txt, utt2wav\n",
    "    "
   ]
  },
  {
   "cell_type": "code",
   "execution_count": 10,
   "metadata": {},
   "outputs": [],
   "source": [
    "def make_intmaps(list_of_reference_sequences, padint=0, padsym='0'):\n",
    "    \"\"\"Create dictionaries that map all characters to integers and vice versa\n",
    "    \n",
    "    We need to add the PAD symbol first which maps to '0' -> 0\n",
    "    \"\"\"\n",
    "    \n",
    "    grapheme2int = {padsym:padint}\n",
    "    int2grapheme = {padint:padsym}\n",
    "\n",
    "    # Enter your code here\n",
    "    \n",
    "    return grapheme2int, int2grapheme"
   ]
  },
  {
   "cell_type": "code",
   "execution_count": 11,
   "metadata": {
    "scrolled": true
   },
   "outputs": [
    {
     "data": {
      "text/plain": [
       "(15011, 15011)"
      ]
     },
     "execution_count": 11,
     "metadata": {},
     "output_type": "execute_result"
    }
   ],
   "source": [
    "# load the data\n",
    "utt2txt, utt2wav = load_data('data/atis2_train')\n",
    "len(utt2txt.values()), len(utt2wav.values())"
   ]
  },
  {
   "cell_type": "code",
   "execution_count": 12,
   "metadata": {},
   "outputs": [],
   "source": [
    "# Create integer maps\n",
    "sym2int, int2sym = make_intmaps(utt2txt.values())"
   ]
  },
  {
   "cell_type": "code",
   "execution_count": 14,
   "metadata": {},
   "outputs": [],
   "source": [
    "def int2onehot(intseq, vocab_size):\n",
    "    \"\"\"Convert an integer sequence into a sequence of onehot embedding\"\"\"\n",
    "    embed = np.zeros((len(intseq), vocab_size))\n",
    "\n",
    "    # Enter your code here\n",
    "    \n",
    "    return embed"
   ]
  },
  {
   "cell_type": "code",
   "execution_count": 16,
   "metadata": {},
   "outputs": [
    {
     "data": {
      "text/plain": [
       "15011"
      ]
     },
     "execution_count": 16,
     "metadata": {},
     "output_type": "execute_result"
    }
   ],
   "source": [
    "# Convert character sequences to integer sequences\n",
    "utt2int = {}\n",
    "for k in utt2txt.keys():\n",
    "    utt2int[k] = [sym2int[c] for c in utt2txt[k]]\n",
    "len(utt2int)"
   ]
  },
  {
   "cell_type": "code",
   "execution_count": 18,
   "metadata": {},
   "outputs": [
    {
     "data": {
      "text/plain": [
       "15011"
      ]
     },
     "execution_count": 18,
     "metadata": {},
     "output_type": "execute_result"
    }
   ],
   "source": [
    "# Convert integer sequences to one-hot embeddings\n",
    "\n",
    "utt2embed = {}\n",
    "for k in utt2int.keys():\n",
    "    utt2embed[k] = int2onehot(utt2int[k], len(int2sym))\n",
    "len(utt2embed)"
   ]
  },
  {
   "cell_type": "markdown",
   "metadata": {},
   "source": [
    "Your second task is to load the audio. Use librosa to load a list of MFCC vector sequences that correspond to the list you loaded with load_mfcc(). Ensure that the output sequences have the dimensions sequence_length x MFCC_dim"
   ]
  },
  {
   "cell_type": "code",
   "execution_count": 22,
   "metadata": {},
   "outputs": [
    {
     "name": "stdout",
     "output_type": "stream",
     "text": [
      "15011\n"
     ]
    }
   ],
   "source": [
    "# Fix paths\n",
    "from os.path import join as path_join\n",
    "for k in utt2wav.keys():\n",
    "    utt2wav[k] = path_join('data', utt2wav[k])\n",
    "print(len(utt2wav))"
   ]
  },
  {
   "cell_type": "code",
   "execution_count": 3,
   "metadata": {},
   "outputs": [],
   "source": [
    "def load_stack_decimate(fname, n_timesteps=3, sr=8000, n_mfcc=40):\n",
    "    \n",
    "    \"\"\"Extracts MFCC features from a WAV file and returns\n",
    "    a numpy array with dims: n_samples x n_mfcc\"\"\"\n",
    "    \n",
    "    # Enter your code here \n",
    "    \n",
    "    \n",
    "    return lfr_stack"
   ]
  },
  {
   "cell_type": "markdown",
   "metadata": {},
   "source": [
    "## Sort on output length  \n",
    "It is a proxy for input length. Sorting makes it easier to learn in the beginning"
   ]
  },
  {
   "cell_type": "code",
   "execution_count": 23,
   "metadata": {},
   "outputs": [
    {
     "data": {
      "text/plain": [
       "['340101', '3e00s1', '3i00p1']"
      ]
     },
     "execution_count": 23,
     "metadata": {},
     "output_type": "execute_result"
    }
   ],
   "source": [
    "uttlen = []\n",
    "for k in utt2embed.keys():\n",
    "    uttlen.append((utt2embed[k].shape[0], k))\n",
    "uttlen = [x[1] for x in sorted(uttlen)]\n",
    "uttlen[:3]"
   ]
  },
  {
   "cell_type": "markdown",
   "metadata": {},
   "source": [
    "Thirdly, create a functions that pads sequences - both MFCCs and onehot target sequences - so all MFCC sequences are the same length and all target sequences are the same length. The best way to pad sequnces are to instantiate a numpy array for the entire batch i.e., with dimensions batch_size x batch_max_sequence_length x feature_dim where feature_dim is the vocabulary size for target sequences and number of MFCC features for input sequences."
   ]
  },
  {
   "cell_type": "code",
   "execution_count": 24,
   "metadata": {},
   "outputs": [
    {
     "name": "stderr",
     "output_type": "stream",
     "text": [
      "Using TensorFlow backend.\n"
     ]
    }
   ],
   "source": [
    "from keras.preprocessing.sequence import pad_sequences\n",
    "def pad(list_of_vectors, offset=0, dtype='float32'):\n",
    "    \"\"\"Right pad sequences and return 3-dimensional array of \n",
    "    batch_size x max_sequence_length x feature dim\n",
    "    \"\"\"\n",
    "    \n",
    "    # Set batch dimensions\n",
    "    bsz = len(list_of_vectors)\n",
    "    maxseqlen = max([len(x) for x in list_of_vectors])\n",
    "    nfeats = list_of_vectors[0].shape[1]\n",
    "\n",
    "    # Initiate batch array\n",
    "    batch = np.zeros((bsz, maxseqlen, nfeats),\n",
    "                     dtype='float32')\n",
    "    \n",
    "    # insert utterances in the batch\n",
    "    # The offset is used when we need to create the \n",
    "    # decoder input that has a 'label delay'\n",
    "    for i in range(bsz):\n",
    "        seq = list_of_vectors[i]\n",
    "        if offset:\n",
    "            # We need to delay the decoder input by 1 time step, so \n",
    "            # we left-pad with a time offset (usually 1) \n",
    "            seq = pad_sequences(seq.T,maxlen=len(seq)+ offset,\n",
    "                                dtype='float32').T[:-offset]\n",
    "            \n",
    "        batch[i,:len(seq)] = seq\n",
    "        \n",
    "    return batch"
   ]
  },
  {
   "cell_type": "markdown",
   "metadata": {},
   "source": [
    "## Dataset loading for training"
   ]
  },
  {
   "cell_type": "markdown",
   "metadata": {},
   "source": [
    "We need to use keras' model.fit_generator() method instead of .fit(). There are 2 reasons:  \n",
    "- we need to pad each batch separately so the padding will be kept to a minimum\n",
    "- speech data usually cannot fit into memory, so we serve/load a batch at a time  \n",
    "  \n",
    "For this purpose, I have written a generator using Keras' Sequence class. A lot of complexity can be hidden in a data generator. In a production training setup with 1000s of hours of training data, we would also fold in the MFCC extraction in the data generator."
   ]
  },
  {
   "cell_type": "code",
   "execution_count": 25,
   "metadata": {},
   "outputs": [],
   "source": [
    "from keras.utils import Sequence\n",
    "import random\n",
    "import multiprocessing.dummy as mp\n",
    "\n",
    "p = mp.Pool(6)\n",
    "\n",
    "class speech_generator(Sequence):\n",
    "    \"\"\"Generator for seq2seq ASR models\"\"\"\n",
    "    def __init__(self, utt2wav, utt2embed, uttlen, batch_size):\n",
    "        self.utt2wav, self.utt2embed = utt2wav, utt2embed\n",
    "        self.utt_order = uttlen\n",
    "        self.batch_size = batch_size\n",
    "    \n",
    "    def shuffle(self):\n",
    "        random.shuffle(self.utt_order)\n",
    "        \n",
    "    def __len__(self):\n",
    "        \"\"\"Returns the number of batches\"\"\"\n",
    "        return int(np.ceil(len(self.utt_order) / self.batch_size))\n",
    "\n",
    "    def __getitem__(self, idx):\n",
    "        batch_utts = self.utt_order[idx * self.batch_size:(idx + 1) * self.batch_size]\n",
    "        batch_wavs = [self.utt2wav[k] for k in batch_utts]\n",
    "        batch_x = p.map(load_stack_decimate, batch_wavs)\n",
    "        batch_y = [self.utt2embed[k] for k in batch_utts]\n",
    "        batch_z = batch_y.copy() # Decoder inputs\n",
    "        \n",
    "        # Note that we pad the data before returning it\n",
    "        # The odd format is expected by the model\n",
    "        return ((pad(batch_x), pad(batch_z, offset=1, dtype='int32')), \n",
    "                pad(batch_y, dtype='int32'))\n",
    "    \n",
    "# we use LFR MFCCs\n",
    "n_mfcc = n_mfcc*3"
   ]
  },
  {
   "cell_type": "markdown",
   "metadata": {},
   "source": [
    "## Let's train a model!  \n",
    "In encoder-decoder models, we add the decoder output from time T-1 to the decoder input at time T. That means we have more than one input to the model and this does not fit easily with the Sequential class you have been using. We will use the Model class which is a generalisation of Sequential which is more flexible."
   ]
  },
  {
   "cell_type": "code",
   "execution_count": 26,
   "metadata": {},
   "outputs": [],
   "source": [
    "from keras.models import Model\n",
    "from keras.layers import * \n",
    "from keras.optimizers import SGD, Adam\n",
    "from keras import backend as K\n",
    "from keras.utils import plot_model\n",
    "from tqdm import tqdm"
   ]
  },
  {
   "cell_type": "markdown",
   "metadata": {},
   "source": [
    "Here we set some global variables based on the training data. Please fill them in"
   ]
  },
  {
   "cell_type": "code",
   "execution_count": 27,
   "metadata": {},
   "outputs": [],
   "source": [
    "num_utts = \n",
    "num_target_labels =  # or vocabulary size"
   ]
  },
  {
   "cell_type": "markdown",
   "metadata": {},
   "source": [
    "## The Encoder-Decoder model with attention layer"
   ]
  },
  {
   "cell_type": "code",
   "execution_count": 28,
   "metadata": {},
   "outputs": [
    {
     "name": "stdout",
     "output_type": "stream",
     "text": [
      "__________________________________________________________________________________________________\n",
      "Layer (type)                    Output Shape         Param #     Connected to                     \n",
      "==================================================================================================\n",
      "mfcc (InputLayer)               (None, None, 120)    0                                            \n",
      "__________________________________________________________________________________________________\n",
      "masking_1 (Masking)             (None, None, 120)    0           mfcc[0][0]                       \n",
      "__________________________________________________________________________________________________\n",
      "encoder1 (LSTM)                 (None, None, 256)    386048      masking_1[0][0]                  \n",
      "__________________________________________________________________________________________________\n",
      "batch_normalization_1 (BatchNor (None, None, 256)    1024        encoder1[0][0]                   \n",
      "__________________________________________________________________________________________________\n",
      "decoder_input (InputLayer)      (None, None, 29)     0                                            \n",
      "__________________________________________________________________________________________________\n",
      "encoder2 (LSTM)                 (None, None, 256)    525312      batch_normalization_1[0][0]      \n",
      "__________________________________________________________________________________________________\n",
      "masking_2 (Masking)             (None, None, 29)     0           decoder_input[0][0]              \n",
      "__________________________________________________________________________________________________\n",
      "batch_normalization_2 (BatchNor (None, None, 256)    1024        encoder2[0][0]                   \n",
      "__________________________________________________________________________________________________\n",
      "decoder_lstm (LSTM)             (None, None, 256)    292864      masking_2[0][0]                  \n",
      "__________________________________________________________________________________________________\n",
      "encoder3 (LSTM)                 (None, None, 256)    525312      batch_normalization_2[0][0]      \n",
      "__________________________________________________________________________________________________\n",
      "dot_1 (Dot)                     (None, None, None)   0           decoder_lstm[0][0]               \n",
      "                                                                 encoder3[0][0]                   \n",
      "__________________________________________________________________________________________________\n",
      "activation_1 (Activation)       (None, None, None)   0           dot_1[0][0]                      \n",
      "__________________________________________________________________________________________________\n",
      "dot_2 (Dot)                     (None, None, 256)    0           activation_1[0][0]               \n",
      "                                                                 encoder3[0][0]                   \n",
      "__________________________________________________________________________________________________\n",
      "concatenate_1 (Concatenate)     (None, None, 512)    0           dot_2[0][0]                      \n",
      "                                                                 decoder_lstm[0][0]               \n",
      "__________________________________________________________________________________________________\n",
      "time_distributed_1 (TimeDistrib (None, None, 256)    131328      concatenate_1[0][0]              \n",
      "__________________________________________________________________________________________________\n",
      "time_distributed_2 (TimeDistrib (None, None, 29)     7453        time_distributed_1[0][0]         \n",
      "==================================================================================================\n",
      "Total params: 1,870,365\n",
      "Trainable params: 1,869,341\n",
      "Non-trainable params: 1,024\n",
      "__________________________________________________________________________________________________\n"
     ]
    }
   ],
   "source": [
    "enc_input = Input(shape=(None, n_mfcc), name='mfcc')\n",
    "masked_enc_input = Masking(mask_value=0)(enc_input)\n",
    "\n",
    "\n",
    "encoder1 = LSTM(hsz, return_sequences=True, name='encoder1')(masked_enc_input)\n",
    "bn1 = BatchNormalization()(encoder1)\n",
    "encoder2 = LSTM(hsz, return_sequences=True, name='encoder2')(bn1)\n",
    "bn2 = BatchNormalization()(encoder2)\n",
    "encoder3 = LSTM(hsz, return_sequences=True, name='encoder3')(bn2)\n",
    "\n",
    "encoder_last = encoder3[:,-1,:]\n",
    "\n",
    "dec_input = Input(shape=(None, num_target_labels), name='decoder_input')\n",
    "masked_dec_input = Masking(mask_value=0)(dec_input)\n",
    "\n",
    "decoder = LSTM(hsz, return_sequences=True, \n",
    "               name='decoder_lstm')(masked_dec_input, initial_state=[encoder_last, encoder_last])\n",
    "\n",
    "\n",
    "# Equation (7) with 'dot' score from Section 3.1 in the paper. \n",
    "# Note that we reuse Softmax-activation layer instead of writing tensor calculation\n",
    "attention = dot([decoder, encoder3], axes=[2, 2])\n",
    "attention = Activation('softmax')(attention)\n",
    "\n",
    "context = dot([attention, encoder3], axes=[2,1])\n",
    "decoder_combined_context = concatenate([context, decoder])\n",
    "\n",
    "## Has another weight + tanh layer as described in equation (5) of the paper\n",
    "output = TimeDistributed(Dense(hsz, activation=\"tanh\"))(decoder_combined_context)\n",
    "\n",
    "\n",
    "# For the plain Sequence-to-Sequence, we produced the output directly from decoder\n",
    "output = TimeDistributed(Dense(num_target_labels, activation=\"softmax\"))(output)\n",
    "\n",
    "\n",
    "attnmdl = Model(inputs=[enc_input, dec_input], outputs=[output])\n",
    "#plot_model(mdl, show_shapes=True)\n",
    "attnmdl.summary()"
   ]
  },
  {
   "cell_type": "code",
   "execution_count": 29,
   "metadata": {},
   "outputs": [
    {
     "name": "stderr",
     "output_type": "stream",
     "text": [
      "Epoch 1; Average loss: 1.2062; Valid loss: 1.2545; Valid accuracy: 0.6260: 100%|██████████| 470/470 [14:42<00:00,  2.50s/it]/home/aski/anaconda3/envs/keras/lib/python3.6/site-packages/keras/engine/network.py:877: UserWarning: Layer decoder_lstm was passed non-serializable keyword arguments: {'initial_state': [<tf.Tensor 'strided_slice:0' shape=(?, 256) dtype=float32>, <tf.Tensor 'strided_slice:0' shape=(?, 256) dtype=float32>]}. They will not be included in the serialized model (and thus will be missing at deserialization time).\n",
      "  '. They will not be included '\n",
      "\n",
      "Epoch 2; Average loss: 0.9291; Valid loss: 0.9978; Valid accuracy: 0.6992: 100%|██████████| 470/470 [14:32<00:00,  2.51s/it]\n",
      "Epoch 3; Average loss: 0.8125; Valid loss: 0.8867; Valid accuracy: 0.7348: 100%|██████████| 470/470 [14:33<00:00,  2.53s/it]\n",
      "Epoch 4; Average loss: 0.7475; Valid loss: 0.8208; Valid accuracy: 0.7538: 100%|██████████| 470/470 [14:32<00:00,  2.50s/it]\n",
      "Epoch 5; Average loss: 0.7031; Valid loss: 0.7750; Valid accuracy: 0.7654: 100%|██████████| 470/470 [14:32<00:00,  2.53s/it]\n"
     ]
    }
   ],
   "source": [
    "# Run training\n",
    "# optimiser = SGD(lr=0.001, decay=0.001)\n",
    "optimiser = Adam(lr=0.001, decay=0.001)\n",
    "attnmdl.compile(optimizer=optimiser, loss='categorical_crossentropy', metrics=['accuracy'])\n",
    "generator = speech_generator(utt2wav, utt2embed, uttlen, bsz)\n",
    "avgloss = []\n",
    "train_batch_accuracies = []\n",
    "\n",
    "test_losses = []\n",
    "testloss = 1000\n",
    "for epoch in range(1,epochs+1):\n",
    "    with tqdm(total=len(generator)) as pbar:\n",
    "        for idx in range(len(generator)):\n",
    "            (x, z), y = generator[idx]\n",
    "            if x.shape[0] != z.shape[0] or x.shape[0] != y.shape[0]:\n",
    "                continue\n",
    "            loss, accuracy = attnmdl.train_on_batch([x,z], y)\n",
    "            train_batch_accuracies.append(accuracy)\n",
    "            avgloss.append(loss)\n",
    "            if idx % 10 == 0:\n",
    "                testloss, testaccuracy = attnmdl.test_on_batch([x,z], y)\n",
    "                pbar.set_description(\"Epoch {}; Average loss: {:.4f}; Valid loss: {:.4f}; Valid accuracy: {:.4f}\".format(\n",
    "                                        epoch, np.mean(avgloss[-10:]), testloss, testaccuracy))\n",
    "            pbar.update(1)\n",
    "        attnmdl.save('attn_{}ep.h5'.format(epoch))\n"
   ]
  },
  {
   "cell_type": "code",
   "execution_count": 31,
   "metadata": {},
   "outputs": [
    {
     "data": {
      "text/plain": [
       "2350"
      ]
     },
     "execution_count": 31,
     "metadata": {},
     "output_type": "execute_result"
    }
   ],
   "source": [
    "len(avgloss)"
   ]
  },
  {
   "cell_type": "code",
   "execution_count": 32,
   "metadata": {},
   "outputs": [
    {
     "data": {
      "text/plain": [
       "2350"
      ]
     },
     "execution_count": 32,
     "metadata": {},
     "output_type": "execute_result"
    }
   ],
   "source": [
    "len(train_batch_accuracies)"
   ]
  },
  {
   "cell_type": "code",
   "execution_count": 33,
   "metadata": {},
   "outputs": [
    {
     "data": {
      "text/plain": [
       "[<matplotlib.lines.Line2D at 0x7f708b67f710>]"
      ]
     },
     "execution_count": 33,
     "metadata": {},
     "output_type": "execute_result"
    },
    {
     "data": {
      "image/png": "[encoded data removed]",
      "text/plain": [
       "<Figure size 432x288 with 1 Axes>"
      ]
     },
     "metadata": {
      "needs_background": "light"
     },
     "output_type": "display_data"
    }
   ],
   "source": [
    "plt.plot(avgloss)"
   ]
  },
  {
   "cell_type": "code",
   "execution_count": 34,
   "metadata": {},
   "outputs": [
    {
     "data": {
      "text/plain": [
       "[<matplotlib.lines.Line2D at 0x7f6ebbb04240>]"
      ]
     },
     "execution_count": 34,
     "metadata": {},
     "output_type": "execute_result"
    },
    {
     "data": {
      "image/png": "[encoded data removed]",
      "text/plain": [
       "<Figure size 432x288 with 1 Axes>"
      ]
     },
     "metadata": {
      "needs_background": "light"
     },
     "output_type": "display_data"
    }
   ],
   "source": [
    "plt.plot(train_batch_accuracies)"
   ]
  }
 ],
 "metadata": {
  "kernelspec": {
   "display_name": "Python 3",
   "language": "python",
   "name": "python3"
  },
  "language_info": {
   "codemirror_mode": {
    "name": "ipython",
    "version": 3
   },
   "file_extension": ".py",
   "mimetype": "text/x-python",
   "name": "python",
   "nbconvert_exporter": "python",
   "pygments_lexer": "ipython3",
   "version": "3.7.0"
  }
 },
 "nbformat": 4,
 "nbformat_minor": 2
}
