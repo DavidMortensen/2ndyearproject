{
 "cells": [
  {
   "cell_type": "markdown",
   "metadata": {},
   "source": [
    "## Milestone 2 (part 1) - Intent detection from text\n",
    "\n",
    "In this part of the milestone, you are going to build an intent detection (classification) model! \n",
    "\n",
    "You will be using the ATIS data which contains data from an airline booking system.\n",
    "\n",
    "You are expected to work on this milestone in lab 8.\n",
    "\n",
    "\n",
    "\n",
    "<img src=\"balloons.svg\">\n",
    "\n",
    "*The version of the ATIS dataset (Price, 1990) stems from Hakkani-Tur et al., (2016)*:\n",
    "```\n",
    "@Inproceedings{hakkani-tur2016multi,\n",
    "  author    = {Hakkani-Tur, Dilek and Tur, Gokhan and Celikyilmaz, Asli and Chen, Yun-Nung and Gao, Jianfeng and Deng, Li and Wang, Ye-Yi},\n",
    "  title     = {Multi-Domain Joint Semantic Frame Parsing using Bi-directional RNN-LSTM},\n",
    "  booktitle = {Proceedings of Interspeech},\n",
    "  year      = {2016}\n",
    "}\n",
    "\n",
    "@inproceedings{price1990evaluation,\n",
    "  title={Evaluation of spoken language systems: The ATIS domain},\n",
    "  author={Price, Patti J},\n",
    "  booktitle={Speech and Natural Language: Proceedings of a Workshop Held at Hidden Valley, Pennsylvania, June 24-27, 1990},\n",
    "  year={1990}\n",
    "}\n",
    "```\n"
   ]
  },
  {
   "cell_type": "markdown",
   "metadata": {},
   "source": [
    "## Load the data"
   ]
  },
  {
   "cell_type": "markdown",
   "metadata": {},
   "source": [
    "The ATIS data consists of both intent detection and slot filling data. In this assignment you will only work with the intent prediction part. For example, for the following utterance:\n",
    "\n",
    "`\n",
    "i want to fly from baltimore to dallas round trip\n",
    "`\n",
    "\n",
    "the intent is `atis_flight`, the user intents to book a flight.\n",
    "\n",
    "The slot filling part is about finding the attributes of the intent, and is related to the named entity prediction task we have seen last week. For today, we focus on the intent prediction task. We leave the slot filling (entity detection) task for the project phase, were you will work with sequence labeling to extend what you have learned in the last lecture (on the POS tagging task).\n",
    "\n",
    "Let's first have a look at the data."
   ]
  },
  {
   "cell_type": "code",
   "execution_count": 4,
   "metadata": {},
   "outputs": [
    {
     "name": "stdout",
     "output_type": "stream",
     "text": [
      "BOS i want to fly from baltimore to dallas round trip EOS\tO O O O O O B-fromloc.city_name O B-toloc.city_name B-round_trip I-round_trip atis_flight\r\n",
      "BOS round trip fares from baltimore to philadelphia less than 1000 dollars round trip fares from denver to philadelphia less than 1000 dollars round trip fares from pittsburgh to philadelphia less than 1000 dollars EOS\tO B-round_trip I-round_trip O O B-fromloc.city_name O B-toloc.city_name B-cost_relative O B-fare_amount I-fare_amount B-round_trip I-round_trip O O B-fromloc.city_name O B-toloc.city_name B-cost_relative O B-fare_amount I-fare_amount B-round_trip I-round_trip O O B-fromloc.city_name O B-toloc.city_name B-cost_relative O B-fare_amount I-fare_amount atis_airfare\r\n",
      "BOS show me the flights arriving on baltimore on june fourteenth EOS\tO O O O O O O B-toloc.city_name O B-arrive_date.month_name B-arrive_date.day_number atis_flight\r\n",
      "BOS what are the flights which depart from san francisco fly to washington via indianapolis and arrive by 9 pm EOS\tO O O O O O O O B-fromloc.city_name I-fromloc.city_name O O B-toloc.city_name O B-stoploc.city_name O O B-arrive_time.time_relative B-arrive_time.time I-arrive_time.time atis_flight\r\n",
      "BOS which airlines fly from boston to washington dc via other cities EOS\tO O O O O B-fromloc.city_name O B-toloc.city_name B-toloc.state_code O O O atis_airline\r\n"
     ]
    }
   ],
   "source": [
    "! head -5 data/atis-2.train.w-intent.iob"
   ]
  },
  {
   "cell_type": "markdown",
   "metadata": {},
   "source": [
    "The data is stored in a column format separated by `TAB`. The first column contains the sentence (utterance), with `BOS` (begin of sentence) and `EOS` (end of sentence) markers. The second colum contains the slot filling information (one tag/label per word), which you can ignore for this exercise, *and* the intent label, e.g., `atis_flight` or `atis_airline` (the last token)."
   ]
  },
  {
   "cell_type": "code",
   "execution_count": 19,
   "metadata": {},
   "outputs": [],
   "source": [
    "## add code to get the data and labels for intent classification (ignoring slot)\n",
    "\n",
    "def read_data(filename):\n",
    "    \n",
    "    return None, None\n",
    "\n",
    "train_data, train_labels = read_data(\"data/atis-2.train.w-intent.iob\")\n",
    "dev_data, dev_labels = read_data(\"data/atis-2.dev.w-intent.iob\")\n",
    "test_data, test_labels = read_data(\"data/atis.test.w-intent.iob\")\n"
   ]
  },
  {
   "cell_type": "markdown",
   "metadata": {},
   "source": [
    "## Deliverables:\n",
    "\n",
    "1. Explore the possible intent labels. Write code to extract the data. Get an overview of the possible labels. What do you observe? What are the labels that contain a `#`? \n",
    "\n",
    "2. Remove instances that contain the `#` label. Simply ignore them for the rest of this exercise. (This goes to multi-label classification which we won't cover in this course).\n",
    "\n",
    "3. Create a baseline classifier for the intent prediction class. Evaluate your baseline by choosing the appropriate evaluation metric.\n",
    "\n",
    "4. Implement a neural model of your choice (e.g., CBOW, CNN, RNN/LSTM) and compare it to a traditional ML model (e.g., logistic regression, perceptron, Naive Bayes). Tune its parameters on the development data. How does the neural model compare to the traditional ML?\n",
    "\n",
    "5. Elaborate on the choices you investigated. Discuss your findings in the light of the results. What is particularly easy with this dataset? What is particularly difficult? "
   ]
  },
  {
   "cell_type": "code",
   "execution_count": null,
   "metadata": {},
   "outputs": [],
   "source": []
  }
 ],
 "metadata": {
  "kernelspec": {
   "display_name": "Python 3",
   "language": "python",
   "name": "python3"
  },
  "language_info": {
   "codemirror_mode": {
    "name": "ipython",
    "version": 3
   },
   "file_extension": ".py",
   "mimetype": "text/x-python",
   "name": "python",
   "nbconvert_exporter": "python",
   "pygments_lexer": "ipython3",
   "version": "3.7.0"
  }
 },
 "nbformat": 4,
 "nbformat_minor": 2
}
